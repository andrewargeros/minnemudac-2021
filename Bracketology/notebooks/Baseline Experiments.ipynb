{
 "cells": [
  {
   "cell_type": "code",
   "execution_count": 10,
   "metadata": {},
   "outputs": [],
   "source": [
    "import os\n",
    "os.chdir('..')"
   ]
  },
  {
   "cell_type": "code",
   "execution_count": 11,
   "metadata": {
    "scrolled": true
   },
   "outputs": [],
   "source": [
    "from bracketology import Bracket"
   ]
  },
  {
   "cell_type": "code",
   "execution_count": 12,
   "metadata": {},
   "outputs": [],
   "source": [
    "import random\n",
    "def upset_prob(p):\n",
    "    \"\"\"\n",
    "    Given a probability between 0-1 will return a function that can\n",
    "    be as an algorithm to fill out an NCAA bracket with `p` as \n",
    "    the probability of an upset\n",
    "    \n",
    "    Parameters\n",
    "    ----------\n",
    "    p  :  (float)\n",
    "        The probability of an upset\n",
    "    \n",
    "    Returns\n",
    "    -------\n",
    "    scoring_func  :  (function)\n",
    "        function to pick an upset of a Game with probability `p`\n",
    "    \"\"\"\n",
    "    assert type(p) == float, \"p must be a float\"\n",
    "    assert p <= 1.0, \"p must be <= 1.0\"\n",
    "    assert p >= 0.0, \"p must be >= 0.0\"\n",
    "    \n",
    "    def scoring_func(the_game):\n",
    "        team1 = the_game.top_team\n",
    "        team2 = the_game.bottom_team\n",
    "\n",
    "        team1_seed = team1.seed\n",
    "        team2_seed = team2.seed\n",
    "        \n",
    "        team1_is_higher_seed = (team1_seed <= team2_seed)\n",
    "        is_upset = (random.random() < p)\n",
    "        \n",
    "        if team1_is_higher_seed:\n",
    "            if is_upset:\n",
    "                winner = team2\n",
    "            else:\n",
    "                winner = team1\n",
    "        else:\n",
    "            if is_upset:\n",
    "                winner = team1\n",
    "            else:\n",
    "                winner = team2\n",
    "        return winner\n",
    "\n",
    "    return scoring_func\n",
    "    "
   ]
  },
  {
   "cell_type": "code",
   "execution_count": null,
   "metadata": {},
   "outputs": [],
   "source": []
  },
  {
   "cell_type": "code",
   "execution_count": null,
   "metadata": {},
   "outputs": [],
   "source": []
  },
  {
   "cell_type": "code",
   "execution_count": 13,
   "metadata": {},
   "outputs": [],
   "source": [
    "bracket19 = Bracket(year=2019)"
   ]
  },
  {
   "cell_type": "code",
   "execution_count": 15,
   "metadata": {},
   "outputs": [
    {
     "name": "stdout",
     "output_type": "stream",
     "text": [
      "Number of games correct: 41/63\n",
      "Total Score: 92/192\n"
     ]
    }
   ],
   "source": [
    "bracket19.score(upset_prob(0.0))"
   ]
  },
  {
   "cell_type": "code",
   "execution_count": 21,
   "metadata": {},
   "outputs": [
    {
     "data": {
      "text/plain": [
       "Bracket for year 2019\n",
       "Winner \n",
       " ------------\n",
       "<11 Ohio St>\n",
       "Championship \n",
       " ------------\n",
       "<Round 5: Top Team: <11 Ohio St> , Bottom Team: <3 Texas Tech>>\n",
       "\n",
       "Final Four:\n",
       " ------------\n",
       "<Round 4: Top Team: <13 UC Irvine> , Bottom Team: <11 Ohio St>>\n",
       "<Round 4: Top Team: <6 Maryland> , Bottom Team: <3 Texas Tech>>\n",
       "\n",
       "\n",
       "East Region\n",
       "-----------\n",
       "Round 1:\n",
       "-------\n",
       "<Round 1: Top Team: <1 Duke> , Bottom Team: <16 North Dakota St>>\n",
       "<Round 1: Top Team: <8 VCU> , Bottom Team: <9 Central Florida>>\n",
       "<Round 1: Top Team: <5 Mississippi St> , Bottom Team: <12 Liberty>>\n",
       "<Round 1: Top Team: <4 Virginia Tech> , Bottom Team: <13 St Louis>>\n",
       "<Round 1: Top Team: <6 Maryland> , Bottom Team: <11 Belmont>>\n",
       "<Round 1: Top Team: <3 LSU> , Bottom Team: <14 Yale>>\n",
       "<Round 1: Top Team: <7 Louisville> , Bottom Team: <10 Minnesota>>\n",
       "<Round 1: Top Team: <2 Michigan St> , Bottom Team: <15 Bradley>>\n",
       "\n",
       "Round 2:\n",
       "-------\n",
       "<Round 2: Top Team: <1 Duke> , Bottom Team: <8 VCU>>\n",
       "<Round 2: Top Team: <5 Mississippi St> , Bottom Team: <4 Virginia Tech>>\n",
       "<Round 2: Top Team: <6 Maryland> , Bottom Team: <3 LSU>>\n",
       "<Round 2: Top Team: <10 Minnesota> , Bottom Team: <15 Bradley>>\n",
       "\n",
       "Sweet 16:\n",
       "--------\n",
       "<Round 3: Top Team: <1 Duke> , Bottom Team: <5 Mississippi St>>\n",
       "<Round 3: Top Team: <6 Maryland> , Bottom Team: <15 Bradley>>\n",
       "\n",
       "Elite 8:\n",
       "-------\n",
       "<Round 3: Top Team: <5 Mississippi St> , Bottom Team: <6 Maryland>>\n",
       "\n",
       "Final 4:\n",
       "-------\n",
       "<6 Maryland>West Region\n",
       "-----------\n",
       "Round 1:\n",
       "-------\n",
       "<Round 1: Top Team: <1 Gonzaga> , Bottom Team: <16 Fairleigh Dickinson>>\n",
       "<Round 1: Top Team: <8 Syracuse> , Bottom Team: <9 Baylor>>\n",
       "<Round 1: Top Team: <5 Marquette> , Bottom Team: <12 Murray St>>\n",
       "<Round 1: Top Team: <4 Florida St> , Bottom Team: <13 Vermont>>\n",
       "<Round 1: Top Team: <6 Buffalo> , Bottom Team: <11 Arizona St>>\n",
       "<Round 1: Top Team: <3 Texas Tech> , Bottom Team: <14 Northern Kentucky>>\n",
       "<Round 1: Top Team: <7 Nevada> , Bottom Team: <10 Florida>>\n",
       "<Round 1: Top Team: <2 Michigan> , Bottom Team: <15 Montana>>\n",
       "\n",
       "Round 2:\n",
       "-------\n",
       "<Round 2: Top Team: <1 Gonzaga> , Bottom Team: <8 Syracuse>>\n",
       "<Round 2: Top Team: <5 Marquette> , Bottom Team: <4 Florida St>>\n",
       "<Round 2: Top Team: <6 Buffalo> , Bottom Team: <3 Texas Tech>>\n",
       "<Round 2: Top Team: <10 Florida> , Bottom Team: <2 Michigan>>\n",
       "\n",
       "Sweet 16:\n",
       "--------\n",
       "<Round 3: Top Team: <8 Syracuse> , Bottom Team: <4 Florida St>>\n",
       "<Round 3: Top Team: <3 Texas Tech> , Bottom Team: <10 Florida>>\n",
       "\n",
       "Elite 8:\n",
       "-------\n",
       "<Round 3: Top Team: <8 Syracuse> , Bottom Team: <3 Texas Tech>>\n",
       "\n",
       "Final 4:\n",
       "-------\n",
       "<3 Texas Tech>Midwest Region\n",
       "-----------\n",
       "Round 1:\n",
       "-------\n",
       "<Round 1: Top Team: <1 North Carolina> , Bottom Team: <16 Iona>>\n",
       "<Round 1: Top Team: <8 Utah St> , Bottom Team: <9 Washington>>\n",
       "<Round 1: Top Team: <5 Auburn> , Bottom Team: <12 New Mexico St>>\n",
       "<Round 1: Top Team: <4 Kansas> , Bottom Team: <13 Northeastern>>\n",
       "<Round 1: Top Team: <6 Iowa St> , Bottom Team: <11 Ohio St>>\n",
       "<Round 1: Top Team: <3 Houston> , Bottom Team: <14 Georgia St>>\n",
       "<Round 1: Top Team: <7 Wofford> , Bottom Team: <10 Seton Hall>>\n",
       "<Round 1: Top Team: <2 Kentucky> , Bottom Team: <15 Abilene Christian>>\n",
       "\n",
       "Round 2:\n",
       "-------\n",
       "<Round 2: Top Team: <1 North Carolina> , Bottom Team: <8 Utah St>>\n",
       "<Round 2: Top Team: <12 New Mexico St> , Bottom Team: <4 Kansas>>\n",
       "<Round 2: Top Team: <11 Ohio St> , Bottom Team: <14 Georgia St>>\n",
       "<Round 2: Top Team: <7 Wofford> , Bottom Team: <2 Kentucky>>\n",
       "\n",
       "Sweet 16:\n",
       "--------\n",
       "<Round 3: Top Team: <8 Utah St> , Bottom Team: <4 Kansas>>\n",
       "<Round 3: Top Team: <11 Ohio St> , Bottom Team: <2 Kentucky>>\n",
       "\n",
       "Elite 8:\n",
       "-------\n",
       "<Round 3: Top Team: <4 Kansas> , Bottom Team: <11 Ohio St>>\n",
       "\n",
       "Final 4:\n",
       "-------\n",
       "<11 Ohio St>South Region\n",
       "-----------\n",
       "Round 1:\n",
       "-------\n",
       "<Round 1: Top Team: <1 Virginia> , Bottom Team: <16 Gardner Webb>>\n",
       "<Round 1: Top Team: <8 Ole Miss> , Bottom Team: <9 Oklahoma>>\n",
       "<Round 1: Top Team: <5 Wisconsin> , Bottom Team: <12 Oregon>>\n",
       "<Round 1: Top Team: <4 Kansas St> , Bottom Team: <13 UC Irvine>>\n",
       "<Round 1: Top Team: <6 Villanova> , Bottom Team: <11 St Marys>>\n",
       "<Round 1: Top Team: <3 Purdue> , Bottom Team: <14 Old Dominion>>\n",
       "<Round 1: Top Team: <7 Cincinnati> , Bottom Team: <10 Iowa>>\n",
       "<Round 1: Top Team: <2 Tennessee> , Bottom Team: <15 Colgate>>\n",
       "\n",
       "Round 2:\n",
       "-------\n",
       "<Round 2: Top Team: <1 Virginia> , Bottom Team: <9 Oklahoma>>\n",
       "<Round 2: Top Team: <5 Wisconsin> , Bottom Team: <13 UC Irvine>>\n",
       "<Round 2: Top Team: <6 Villanova> , Bottom Team: <14 Old Dominion>>\n",
       "<Round 2: Top Team: <7 Cincinnati> , Bottom Team: <2 Tennessee>>\n",
       "\n",
       "Sweet 16:\n",
       "--------\n",
       "<Round 3: Top Team: <9 Oklahoma> , Bottom Team: <13 UC Irvine>>\n",
       "<Round 3: Top Team: <14 Old Dominion> , Bottom Team: <2 Tennessee>>\n",
       "\n",
       "Elite 8:\n",
       "-------\n",
       "<Round 3: Top Team: <13 UC Irvine> , Bottom Team: <2 Tennessee>>\n",
       "\n",
       "Final 4:\n",
       "-------\n",
       "<13 UC Irvine>"
      ]
     },
     "execution_count": 21,
     "metadata": {},
     "output_type": "execute_result"
    }
   ],
   "source": [
    "bracket19"
   ]
  },
  {
   "cell_type": "code",
   "execution_count": null,
   "metadata": {},
   "outputs": [],
   "source": [
    "import json\n",
    "with open('brackets.json', 'r') as f:\n",
    "    brackets = json.load(f)"
   ]
  },
  {
   "cell_type": "code",
   "execution_count": null,
   "metadata": {},
   "outputs": [],
   "source": [
    "brackets['2019']"
   ]
  },
  {
   "cell_type": "code",
   "execution_count": null,
   "metadata": {},
   "outputs": [],
   "source": []
  },
  {
   "cell_type": "code",
   "execution_count": null,
   "metadata": {},
   "outputs": [],
   "source": []
  },
  {
   "cell_type": "code",
   "execution_count": null,
   "metadata": {},
   "outputs": [],
   "source": []
  },
  {
   "cell_type": "code",
   "execution_count": null,
   "metadata": {},
   "outputs": [],
   "source": []
  },
  {
   "cell_type": "code",
   "execution_count": null,
   "metadata": {},
   "outputs": [],
   "source": []
  },
  {
   "cell_type": "code",
   "execution_count": null,
   "metadata": {},
   "outputs": [],
   "source": []
  },
  {
   "cell_type": "code",
   "execution_count": null,
   "metadata": {},
   "outputs": [],
   "source": []
  },
  {
   "cell_type": "code",
   "execution_count": null,
   "metadata": {},
   "outputs": [],
   "source": []
  },
  {
   "cell_type": "code",
   "execution_count": null,
   "metadata": {},
   "outputs": [],
   "source": []
  },
  {
   "cell_type": "code",
   "execution_count": null,
   "metadata": {},
   "outputs": [],
   "source": []
  },
  {
   "cell_type": "code",
   "execution_count": null,
   "metadata": {},
   "outputs": [],
   "source": []
  },
  {
   "cell_type": "code",
   "execution_count": null,
   "metadata": {},
   "outputs": [],
   "source": []
  }
 ],
 "metadata": {
  "kernelspec": {
   "display_name": "Python 3",
   "language": "python",
   "name": "python3"
  },
  "language_info": {
   "codemirror_mode": {
    "name": "ipython",
    "version": 3
   },
   "file_extension": ".py",
   "mimetype": "text/x-python",
   "name": "python",
   "nbconvert_exporter": "python",
   "pygments_lexer": "ipython3",
   "version": "3.7.6"
  }
 },
 "nbformat": 4,
 "nbformat_minor": 4
}
