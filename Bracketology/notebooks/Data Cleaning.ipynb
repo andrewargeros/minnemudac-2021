{
 "cells": [
  {
   "cell_type": "code",
   "execution_count": null,
   "metadata": {},
   "outputs": [],
   "source": []
  },
  {
   "cell_type": "code",
   "execution_count": 1,
   "metadata": {},
   "outputs": [],
   "source": [
    "import boto3\n",
    "import pandas as pd\n",
    "import numpy as np\n",
    "from io import StringIO\n"
   ]
  },
  {
   "cell_type": "code",
   "execution_count": 2,
   "metadata": {},
   "outputs": [],
   "source": [
    "# Data posted by Michael Roy on Data World\n",
    "# https://data.world/michaelaroy/ncaa-tournament-results\n",
    "raw_df = pd.read_csv('https://query.data.world/s/gp7t4y3y3bcmazezh3hyfa64hjed6j')"
   ]
  },
  {
   "cell_type": "code",
   "execution_count": null,
   "metadata": {},
   "outputs": [],
   "source": []
  },
  {
   "cell_type": "markdown",
   "metadata": {},
   "source": [
    "### Transform tournament data into a long format "
   ]
  },
  {
   "cell_type": "markdown",
   "metadata": {},
   "source": [
    "#### Old format"
   ]
  },
  {
   "cell_type": "code",
   "execution_count": 3,
   "metadata": {},
   "outputs": [
    {
     "data": {
      "text/html": [
       "<div>\n",
       "<style scoped>\n",
       "    .dataframe tbody tr th:only-of-type {\n",
       "        vertical-align: middle;\n",
       "    }\n",
       "\n",
       "    .dataframe tbody tr th {\n",
       "        vertical-align: top;\n",
       "    }\n",
       "\n",
       "    .dataframe thead th {\n",
       "        text-align: right;\n",
       "    }\n",
       "</style>\n",
       "<table border=\"1\" class=\"dataframe\">\n",
       "  <thead>\n",
       "    <tr style=\"text-align: right;\">\n",
       "      <th></th>\n",
       "      <th>Year</th>\n",
       "      <th>Round</th>\n",
       "      <th>Region Number</th>\n",
       "      <th>Region Name</th>\n",
       "      <th>Seed</th>\n",
       "      <th>Score</th>\n",
       "      <th>Team</th>\n",
       "      <th>Team.1</th>\n",
       "      <th>Score.1</th>\n",
       "      <th>Seed.1</th>\n",
       "    </tr>\n",
       "  </thead>\n",
       "  <tbody>\n",
       "    <tr>\n",
       "      <th>0</th>\n",
       "      <td>1985</td>\n",
       "      <td>1</td>\n",
       "      <td>1</td>\n",
       "      <td>West</td>\n",
       "      <td>1</td>\n",
       "      <td>83</td>\n",
       "      <td>St Johns</td>\n",
       "      <td>Southern</td>\n",
       "      <td>59</td>\n",
       "      <td>16</td>\n",
       "    </tr>\n",
       "    <tr>\n",
       "      <th>1</th>\n",
       "      <td>1985</td>\n",
       "      <td>1</td>\n",
       "      <td>1</td>\n",
       "      <td>West</td>\n",
       "      <td>2</td>\n",
       "      <td>81</td>\n",
       "      <td>VCU</td>\n",
       "      <td>Marshall</td>\n",
       "      <td>65</td>\n",
       "      <td>15</td>\n",
       "    </tr>\n",
       "    <tr>\n",
       "      <th>2</th>\n",
       "      <td>1985</td>\n",
       "      <td>1</td>\n",
       "      <td>1</td>\n",
       "      <td>West</td>\n",
       "      <td>3</td>\n",
       "      <td>65</td>\n",
       "      <td>NC State</td>\n",
       "      <td>Nevada</td>\n",
       "      <td>56</td>\n",
       "      <td>14</td>\n",
       "    </tr>\n",
       "    <tr>\n",
       "      <th>3</th>\n",
       "      <td>1985</td>\n",
       "      <td>1</td>\n",
       "      <td>1</td>\n",
       "      <td>West</td>\n",
       "      <td>4</td>\n",
       "      <td>85</td>\n",
       "      <td>UNLV</td>\n",
       "      <td>San Diego St</td>\n",
       "      <td>80</td>\n",
       "      <td>13</td>\n",
       "    </tr>\n",
       "    <tr>\n",
       "      <th>4</th>\n",
       "      <td>1985</td>\n",
       "      <td>1</td>\n",
       "      <td>1</td>\n",
       "      <td>West</td>\n",
       "      <td>5</td>\n",
       "      <td>58</td>\n",
       "      <td>Washington</td>\n",
       "      <td>Kentucky</td>\n",
       "      <td>65</td>\n",
       "      <td>12</td>\n",
       "    </tr>\n",
       "  </tbody>\n",
       "</table>\n",
       "</div>"
      ],
      "text/plain": [
       "   Year  Round  Region Number Region Name  Seed  Score        Team  \\\n",
       "0  1985      1              1        West     1     83    St Johns   \n",
       "1  1985      1              1        West     2     81         VCU   \n",
       "2  1985      1              1        West     3     65    NC State   \n",
       "3  1985      1              1        West     4     85        UNLV   \n",
       "4  1985      1              1        West     5     58  Washington   \n",
       "\n",
       "         Team.1  Score.1  Seed.1  \n",
       "0      Southern       59      16  \n",
       "1      Marshall       65      15  \n",
       "2        Nevada       56      14  \n",
       "3  San Diego St       80      13  \n",
       "4      Kentucky       65      12  "
      ]
     },
     "execution_count": 3,
     "metadata": {},
     "output_type": "execute_result"
    }
   ],
   "source": [
    "raw_df.head()"
   ]
  },
  {
   "cell_type": "code",
   "execution_count": 4,
   "metadata": {},
   "outputs": [],
   "source": [
    "base_columns = ['Year','Round','Region Number','Region Name']\n",
    "team0_columns = ['Team','Seed','Score']\n",
    "team1_columns = ['Team.1','Seed.1','Score.1']"
   ]
  },
  {
   "cell_type": "code",
   "execution_count": 5,
   "metadata": {},
   "outputs": [],
   "source": [
    "high_seed_df = raw_df[base_columns + team0_columns].copy()\n",
    "low_seed_df  = raw_df[base_columns + team1_columns].rename(columns=dict(zip(team1_columns,team0_columns))).copy()\n",
    "\n",
    "high_seed_df['Team_Position'] = 'high'\n",
    "low_seed_df['Team_Position'] = 'low'\n",
    "raw_long_df = pd.concat([high_seed_df, low_seed_df])"
   ]
  },
  {
   "cell_type": "markdown",
   "metadata": {},
   "source": [
    "#### New format"
   ]
  },
  {
   "cell_type": "code",
   "execution_count": 7,
   "metadata": {},
   "outputs": [
    {
     "data": {
      "text/html": [
       "<div>\n",
       "<style scoped>\n",
       "    .dataframe tbody tr th:only-of-type {\n",
       "        vertical-align: middle;\n",
       "    }\n",
       "\n",
       "    .dataframe tbody tr th {\n",
       "        vertical-align: top;\n",
       "    }\n",
       "\n",
       "    .dataframe thead th {\n",
       "        text-align: right;\n",
       "    }\n",
       "</style>\n",
       "<table border=\"1\" class=\"dataframe\">\n",
       "  <thead>\n",
       "    <tr style=\"text-align: right;\">\n",
       "      <th></th>\n",
       "      <th>Year</th>\n",
       "      <th>Round</th>\n",
       "      <th>Region Number</th>\n",
       "      <th>Region Name</th>\n",
       "      <th>Team</th>\n",
       "      <th>Seed</th>\n",
       "      <th>Score</th>\n",
       "      <th>Team_Position</th>\n",
       "    </tr>\n",
       "  </thead>\n",
       "  <tbody>\n",
       "    <tr>\n",
       "      <th>0</th>\n",
       "      <td>1985</td>\n",
       "      <td>1</td>\n",
       "      <td>1</td>\n",
       "      <td>West</td>\n",
       "      <td>St Johns</td>\n",
       "      <td>1</td>\n",
       "      <td>83</td>\n",
       "      <td>high</td>\n",
       "    </tr>\n",
       "    <tr>\n",
       "      <th>1</th>\n",
       "      <td>1985</td>\n",
       "      <td>1</td>\n",
       "      <td>1</td>\n",
       "      <td>West</td>\n",
       "      <td>VCU</td>\n",
       "      <td>2</td>\n",
       "      <td>81</td>\n",
       "      <td>high</td>\n",
       "    </tr>\n",
       "    <tr>\n",
       "      <th>2</th>\n",
       "      <td>1985</td>\n",
       "      <td>1</td>\n",
       "      <td>1</td>\n",
       "      <td>West</td>\n",
       "      <td>NC State</td>\n",
       "      <td>3</td>\n",
       "      <td>65</td>\n",
       "      <td>high</td>\n",
       "    </tr>\n",
       "    <tr>\n",
       "      <th>3</th>\n",
       "      <td>1985</td>\n",
       "      <td>1</td>\n",
       "      <td>1</td>\n",
       "      <td>West</td>\n",
       "      <td>UNLV</td>\n",
       "      <td>4</td>\n",
       "      <td>85</td>\n",
       "      <td>high</td>\n",
       "    </tr>\n",
       "    <tr>\n",
       "      <th>4</th>\n",
       "      <td>1985</td>\n",
       "      <td>1</td>\n",
       "      <td>1</td>\n",
       "      <td>West</td>\n",
       "      <td>Washington</td>\n",
       "      <td>5</td>\n",
       "      <td>58</td>\n",
       "      <td>high</td>\n",
       "    </tr>\n",
       "  </tbody>\n",
       "</table>\n",
       "</div>"
      ],
      "text/plain": [
       "   Year  Round  Region Number Region Name        Team  Seed  Score  \\\n",
       "0  1985      1              1        West    St Johns     1     83   \n",
       "1  1985      1              1        West         VCU     2     81   \n",
       "2  1985      1              1        West    NC State     3     65   \n",
       "3  1985      1              1        West        UNLV     4     85   \n",
       "4  1985      1              1        West  Washington     5     58   \n",
       "\n",
       "  Team_Position  \n",
       "0          high  \n",
       "1          high  \n",
       "2          high  \n",
       "3          high  \n",
       "4          high  "
      ]
     },
     "execution_count": 7,
     "metadata": {},
     "output_type": "execute_result"
    }
   ],
   "source": [
    "raw_long_df.head()"
   ]
  },
  {
   "cell_type": "markdown",
   "metadata": {},
   "source": [
    "### Fix data issue with 2019 regions that are flipped"
   ]
  },
  {
   "cell_type": "markdown",
   "metadata": {},
   "source": [
    "In this data, the 2019 rounds 2 - final four East and South regions are flipped. I checked the rest of the data and this is the only error of this kind. You can see in round 1 Duke is in the East and Virginia is in the South. And in rounds 2-4 that is flipped."
   ]
  },
  {
   "cell_type": "code",
   "execution_count": 11,
   "metadata": {},
   "outputs": [
    {
     "data": {
      "text/html": [
       "<div>\n",
       "<style scoped>\n",
       "    .dataframe tbody tr th:only-of-type {\n",
       "        vertical-align: middle;\n",
       "    }\n",
       "\n",
       "    .dataframe tbody tr th {\n",
       "        vertical-align: top;\n",
       "    }\n",
       "\n",
       "    .dataframe thead th {\n",
       "        text-align: right;\n",
       "    }\n",
       "</style>\n",
       "<table border=\"1\" class=\"dataframe\">\n",
       "  <thead>\n",
       "    <tr style=\"text-align: right;\">\n",
       "      <th></th>\n",
       "      <th>Year</th>\n",
       "      <th>Round</th>\n",
       "      <th>Region Number</th>\n",
       "      <th>Region Name</th>\n",
       "      <th>Team</th>\n",
       "      <th>Seed</th>\n",
       "      <th>Score</th>\n",
       "      <th>Team_Position</th>\n",
       "    </tr>\n",
       "  </thead>\n",
       "  <tbody>\n",
       "    <tr>\n",
       "      <th>2142</th>\n",
       "      <td>2019</td>\n",
       "      <td>1</td>\n",
       "      <td>1</td>\n",
       "      <td>East</td>\n",
       "      <td>Duke</td>\n",
       "      <td>1</td>\n",
       "      <td>85</td>\n",
       "      <td>high</td>\n",
       "    </tr>\n",
       "    <tr>\n",
       "      <th>2158</th>\n",
       "      <td>2019</td>\n",
       "      <td>1</td>\n",
       "      <td>3</td>\n",
       "      <td>South</td>\n",
       "      <td>Virginia</td>\n",
       "      <td>1</td>\n",
       "      <td>71</td>\n",
       "      <td>high</td>\n",
       "    </tr>\n",
       "    <tr>\n",
       "      <th>2174</th>\n",
       "      <td>2019</td>\n",
       "      <td>2</td>\n",
       "      <td>1</td>\n",
       "      <td>South</td>\n",
       "      <td>Duke</td>\n",
       "      <td>1</td>\n",
       "      <td>77</td>\n",
       "      <td>high</td>\n",
       "    </tr>\n",
       "    <tr>\n",
       "      <th>2182</th>\n",
       "      <td>2019</td>\n",
       "      <td>2</td>\n",
       "      <td>3</td>\n",
       "      <td>East</td>\n",
       "      <td>Virginia</td>\n",
       "      <td>1</td>\n",
       "      <td>63</td>\n",
       "      <td>high</td>\n",
       "    </tr>\n",
       "    <tr>\n",
       "      <th>2190</th>\n",
       "      <td>2019</td>\n",
       "      <td>3</td>\n",
       "      <td>1</td>\n",
       "      <td>South</td>\n",
       "      <td>Duke</td>\n",
       "      <td>1</td>\n",
       "      <td>75</td>\n",
       "      <td>high</td>\n",
       "    </tr>\n",
       "    <tr>\n",
       "      <th>2194</th>\n",
       "      <td>2019</td>\n",
       "      <td>3</td>\n",
       "      <td>3</td>\n",
       "      <td>East</td>\n",
       "      <td>Virginia</td>\n",
       "      <td>1</td>\n",
       "      <td>53</td>\n",
       "      <td>high</td>\n",
       "    </tr>\n",
       "    <tr>\n",
       "      <th>2198</th>\n",
       "      <td>2019</td>\n",
       "      <td>4</td>\n",
       "      <td>1</td>\n",
       "      <td>South</td>\n",
       "      <td>Duke</td>\n",
       "      <td>1</td>\n",
       "      <td>67</td>\n",
       "      <td>high</td>\n",
       "    </tr>\n",
       "    <tr>\n",
       "      <th>2200</th>\n",
       "      <td>2019</td>\n",
       "      <td>4</td>\n",
       "      <td>3</td>\n",
       "      <td>East</td>\n",
       "      <td>Virginia</td>\n",
       "      <td>1</td>\n",
       "      <td>80</td>\n",
       "      <td>high</td>\n",
       "    </tr>\n",
       "  </tbody>\n",
       "</table>\n",
       "</div>"
      ],
      "text/plain": [
       "      Year  Round  Region Number Region Name      Team  Seed  Score  \\\n",
       "2142  2019      1              1        East      Duke     1     85   \n",
       "2158  2019      1              3       South  Virginia     1     71   \n",
       "2174  2019      2              1       South      Duke     1     77   \n",
       "2182  2019      2              3        East  Virginia     1     63   \n",
       "2190  2019      3              1       South      Duke     1     75   \n",
       "2194  2019      3              3        East  Virginia     1     53   \n",
       "2198  2019      4              1       South      Duke     1     67   \n",
       "2200  2019      4              3        East  Virginia     1     80   \n",
       "\n",
       "     Team_Position  \n",
       "2142          high  \n",
       "2158          high  \n",
       "2174          high  \n",
       "2182          high  \n",
       "2190          high  \n",
       "2194          high  \n",
       "2198          high  \n",
       "2200          high  "
      ]
     },
     "execution_count": 11,
     "metadata": {},
     "output_type": "execute_result"
    }
   ],
   "source": [
    "is2019 = raw_long_df.Year == 2019\n",
    "seed1 = raw_long_df.Seed == 1\n",
    "bad_regions = raw_long_df['Region Name'].isin(['East','South'])\n",
    "raw_long_df[is2019 & seed1 & bad_regions]"
   ]
  },
  {
   "cell_type": "markdown",
   "metadata": {},
   "source": [
    "Here we look at how bad that problem is. But it is limited to 2019 East and South regions.      \n",
    "This table shows the number of regions that each team is in during each year."
   ]
  },
  {
   "cell_type": "code",
   "execution_count": 12,
   "metadata": {},
   "outputs": [
    {
     "data": {
      "text/html": [
       "<div>\n",
       "<style scoped>\n",
       "    .dataframe tbody tr th:only-of-type {\n",
       "        vertical-align: middle;\n",
       "    }\n",
       "\n",
       "    .dataframe tbody tr th {\n",
       "        vertical-align: top;\n",
       "    }\n",
       "\n",
       "    .dataframe thead th {\n",
       "        text-align: right;\n",
       "    }\n",
       "</style>\n",
       "<table border=\"1\" class=\"dataframe\">\n",
       "  <thead>\n",
       "    <tr style=\"text-align: right;\">\n",
       "      <th></th>\n",
       "      <th>Year</th>\n",
       "      <th>Team</th>\n",
       "      <th>Region Name</th>\n",
       "    </tr>\n",
       "  </thead>\n",
       "  <tbody>\n",
       "    <tr>\n",
       "      <th>2200</th>\n",
       "      <td>2019</td>\n",
       "      <td>LSU</td>\n",
       "      <td>2</td>\n",
       "    </tr>\n",
       "    <tr>\n",
       "      <th>2221</th>\n",
       "      <td>2019</td>\n",
       "      <td>Oregon</td>\n",
       "      <td>2</td>\n",
       "    </tr>\n",
       "    <tr>\n",
       "      <th>2204</th>\n",
       "      <td>2019</td>\n",
       "      <td>Maryland</td>\n",
       "      <td>2</td>\n",
       "    </tr>\n",
       "    <tr>\n",
       "      <th>2201</th>\n",
       "      <td>2019</td>\n",
       "      <td>Liberty</td>\n",
       "      <td>2</td>\n",
       "    </tr>\n",
       "    <tr>\n",
       "      <th>2218</th>\n",
       "      <td>2019</td>\n",
       "      <td>Oklahoma</td>\n",
       "      <td>2</td>\n",
       "    </tr>\n",
       "    <tr>\n",
       "      <th>2227</th>\n",
       "      <td>2019</td>\n",
       "      <td>Tennessee</td>\n",
       "      <td>2</td>\n",
       "    </tr>\n",
       "    <tr>\n",
       "      <th>2183</th>\n",
       "      <td>2019</td>\n",
       "      <td>Central Florida</td>\n",
       "      <td>2</td>\n",
       "    </tr>\n",
       "    <tr>\n",
       "      <th>2229</th>\n",
       "      <td>2019</td>\n",
       "      <td>UC Irvine</td>\n",
       "      <td>2</td>\n",
       "    </tr>\n",
       "    <tr>\n",
       "      <th>2206</th>\n",
       "      <td>2019</td>\n",
       "      <td>Michigan St</td>\n",
       "      <td>2</td>\n",
       "    </tr>\n",
       "    <tr>\n",
       "      <th>2207</th>\n",
       "      <td>2019</td>\n",
       "      <td>Minnesota</td>\n",
       "      <td>2</td>\n",
       "    </tr>\n",
       "    <tr>\n",
       "      <th>2186</th>\n",
       "      <td>2019</td>\n",
       "      <td>Duke</td>\n",
       "      <td>2</td>\n",
       "    </tr>\n",
       "    <tr>\n",
       "      <th>2233</th>\n",
       "      <td>2019</td>\n",
       "      <td>Villanova</td>\n",
       "      <td>2</td>\n",
       "    </tr>\n",
       "    <tr>\n",
       "      <th>2234</th>\n",
       "      <td>2019</td>\n",
       "      <td>Virginia</td>\n",
       "      <td>2</td>\n",
       "    </tr>\n",
       "    <tr>\n",
       "      <th>2235</th>\n",
       "      <td>2019</td>\n",
       "      <td>Virginia Tech</td>\n",
       "      <td>2</td>\n",
       "    </tr>\n",
       "    <tr>\n",
       "      <th>2195</th>\n",
       "      <td>2019</td>\n",
       "      <td>Iowa</td>\n",
       "      <td>2</td>\n",
       "    </tr>\n",
       "    <tr>\n",
       "      <th>2222</th>\n",
       "      <td>2019</td>\n",
       "      <td>Purdue</td>\n",
       "      <td>2</td>\n",
       "    </tr>\n",
       "    <tr>\n",
       "      <th>1489</th>\n",
       "      <td>2008</td>\n",
       "      <td>Georgetown</td>\n",
       "      <td>1</td>\n",
       "    </tr>\n",
       "    <tr>\n",
       "      <th>1490</th>\n",
       "      <td>2008</td>\n",
       "      <td>Georgia</td>\n",
       "      <td>1</td>\n",
       "    </tr>\n",
       "    <tr>\n",
       "      <th>1488</th>\n",
       "      <td>2008</td>\n",
       "      <td>George Mason</td>\n",
       "      <td>1</td>\n",
       "    </tr>\n",
       "    <tr>\n",
       "      <th>0</th>\n",
       "      <td>1985</td>\n",
       "      <td>Alabama</td>\n",
       "      <td>1</td>\n",
       "    </tr>\n",
       "  </tbody>\n",
       "</table>\n",
       "</div>"
      ],
      "text/plain": [
       "      Year             Team  Region Name\n",
       "2200  2019              LSU            2\n",
       "2221  2019           Oregon            2\n",
       "2204  2019         Maryland            2\n",
       "2201  2019          Liberty            2\n",
       "2218  2019         Oklahoma            2\n",
       "2227  2019        Tennessee            2\n",
       "2183  2019  Central Florida            2\n",
       "2229  2019        UC Irvine            2\n",
       "2206  2019      Michigan St            2\n",
       "2207  2019        Minnesota            2\n",
       "2186  2019             Duke            2\n",
       "2233  2019        Villanova            2\n",
       "2234  2019         Virginia            2\n",
       "2235  2019    Virginia Tech            2\n",
       "2195  2019             Iowa            2\n",
       "2222  2019           Purdue            2\n",
       "1489  2008       Georgetown            1\n",
       "1490  2008          Georgia            1\n",
       "1488  2008     George Mason            1\n",
       "0     1985          Alabama            1"
      ]
     },
     "execution_count": 12,
     "metadata": {},
     "output_type": "execute_result"
    }
   ],
   "source": [
    "regional_rounds = raw_long_df.Round <= 4 # Filter out where region name is Final Four or Championship\n",
    "raw_long_df[regional_rounds] \\\n",
    "    .groupby(['Year','Region Name','Team']) \\\n",
    "    .count() \\\n",
    "    .reset_index() \\\n",
    "    .groupby(['Year','Team'])['Region Name'].count() \\\n",
    "    .reset_index() \\\n",
    "    .sort_values('Region Name', ascending=False) \\\n",
    "    .head(20)"
   ]
  },
  {
   "cell_type": "markdown",
   "metadata": {},
   "source": [
    "Get a boolean mask for the rows that need to be changed"
   ]
  },
  {
   "cell_type": "code",
   "execution_count": 13,
   "metadata": {},
   "outputs": [],
   "source": [
    "is2019 = (raw_long_df.Year == 2019)\n",
    "isBadRound = (raw_long_df.Round > 1)\n",
    "isEast = (raw_long_df['Region Name'] == 'East')\n",
    "isSouth = (raw_long_df['Region Name'] == 'South')\n",
    "\n",
    "badEastRows = (is2019 & isBadRound & isEast)\n",
    "badSouthRows = (is2019 & isBadRound & isSouth)"
   ]
  },
  {
   "cell_type": "markdown",
   "metadata": {},
   "source": [
    "Correct the bad data"
   ]
  },
  {
   "cell_type": "code",
   "execution_count": 14,
   "metadata": {},
   "outputs": [],
   "source": [
    "raw_long_df.loc[badEastRows,'Region Name'] = 'South'\n",
    "raw_long_df.loc[badSouthRows,'Region Name'] = 'East'"
   ]
  },
  {
   "cell_type": "markdown",
   "metadata": {},
   "source": [
    "### Create some standardization on region names"
   ]
  },
  {
   "cell_type": "markdown",
   "metadata": {},
   "source": [
    "The region names change year to year. I wanted to have some standardization in region names...     \n",
    "I hope this doesn't make things confusing later.     \n",
    "Below shows the relative number of years each region shows up."
   ]
  },
  {
   "cell_type": "code",
   "execution_count": 15,
   "metadata": {},
   "outputs": [
    {
     "data": {
      "text/html": [
       "<div>\n",
       "<style scoped>\n",
       "    .dataframe tbody tr th:only-of-type {\n",
       "        vertical-align: middle;\n",
       "    }\n",
       "\n",
       "    .dataframe tbody tr th {\n",
       "        vertical-align: top;\n",
       "    }\n",
       "\n",
       "    .dataframe thead th {\n",
       "        text-align: right;\n",
       "    }\n",
       "</style>\n",
       "<table border=\"1\" class=\"dataframe\">\n",
       "  <thead>\n",
       "    <tr style=\"text-align: right;\">\n",
       "      <th></th>\n",
       "      <th>Year</th>\n",
       "      <th>Round</th>\n",
       "      <th>Region Number</th>\n",
       "      <th>Team</th>\n",
       "      <th>Seed</th>\n",
       "      <th>Score</th>\n",
       "      <th>Team_Position</th>\n",
       "    </tr>\n",
       "    <tr>\n",
       "      <th>Region Name</th>\n",
       "      <th></th>\n",
       "      <th></th>\n",
       "      <th></th>\n",
       "      <th></th>\n",
       "      <th></th>\n",
       "      <th></th>\n",
       "      <th></th>\n",
       "    </tr>\n",
       "  </thead>\n",
       "  <tbody>\n",
       "    <tr>\n",
       "      <th>Championship</th>\n",
       "      <td>70</td>\n",
       "      <td>70</td>\n",
       "      <td>70</td>\n",
       "      <td>70</td>\n",
       "      <td>70</td>\n",
       "      <td>70</td>\n",
       "      <td>70</td>\n",
       "    </tr>\n",
       "    <tr>\n",
       "      <th>East</th>\n",
       "      <td>1050</td>\n",
       "      <td>1050</td>\n",
       "      <td>1050</td>\n",
       "      <td>1050</td>\n",
       "      <td>1050</td>\n",
       "      <td>1050</td>\n",
       "      <td>1050</td>\n",
       "    </tr>\n",
       "    <tr>\n",
       "      <th>Final Four</th>\n",
       "      <td>140</td>\n",
       "      <td>140</td>\n",
       "      <td>140</td>\n",
       "      <td>140</td>\n",
       "      <td>140</td>\n",
       "      <td>140</td>\n",
       "      <td>140</td>\n",
       "    </tr>\n",
       "    <tr>\n",
       "      <th>Midwest</th>\n",
       "      <td>1020</td>\n",
       "      <td>1020</td>\n",
       "      <td>1020</td>\n",
       "      <td>1020</td>\n",
       "      <td>1020</td>\n",
       "      <td>1020</td>\n",
       "      <td>1020</td>\n",
       "    </tr>\n",
       "    <tr>\n",
       "      <th>South</th>\n",
       "      <td>630</td>\n",
       "      <td>630</td>\n",
       "      <td>630</td>\n",
       "      <td>630</td>\n",
       "      <td>630</td>\n",
       "      <td>630</td>\n",
       "      <td>630</td>\n",
       "    </tr>\n",
       "    <tr>\n",
       "      <th>Southeast</th>\n",
       "      <td>420</td>\n",
       "      <td>420</td>\n",
       "      <td>420</td>\n",
       "      <td>420</td>\n",
       "      <td>420</td>\n",
       "      <td>420</td>\n",
       "      <td>420</td>\n",
       "    </tr>\n",
       "    <tr>\n",
       "      <th>Southwest</th>\n",
       "      <td>30</td>\n",
       "      <td>30</td>\n",
       "      <td>30</td>\n",
       "      <td>30</td>\n",
       "      <td>30</td>\n",
       "      <td>30</td>\n",
       "      <td>30</td>\n",
       "    </tr>\n",
       "    <tr>\n",
       "      <th>West</th>\n",
       "      <td>1050</td>\n",
       "      <td>1050</td>\n",
       "      <td>1050</td>\n",
       "      <td>1050</td>\n",
       "      <td>1050</td>\n",
       "      <td>1050</td>\n",
       "      <td>1050</td>\n",
       "    </tr>\n",
       "  </tbody>\n",
       "</table>\n",
       "</div>"
      ],
      "text/plain": [
       "              Year  Round  Region Number  Team  Seed  Score  Team_Position\n",
       "Region Name                                                               \n",
       "Championship    70     70             70    70    70     70             70\n",
       "East          1050   1050           1050  1050  1050   1050           1050\n",
       "Final Four     140    140            140   140   140    140            140\n",
       "Midwest       1020   1020           1020  1020  1020   1020           1020\n",
       "South          630    630            630   630   630    630            630\n",
       "Southeast      420    420            420   420   420    420            420\n",
       "Southwest       30     30             30    30    30     30             30\n",
       "West          1050   1050           1050  1050  1050   1050           1050"
      ]
     },
     "execution_count": 15,
     "metadata": {},
     "output_type": "execute_result"
    }
   ],
   "source": [
    "raw_long_df.groupby('Region Name').count()"
   ]
  },
  {
   "cell_type": "markdown",
   "metadata": {},
   "source": [
    "East and West are there every year.     \n",
    "Change Southwest --> Midwest     \n",
    "and Southeast --> South      \n",
    "and then Region Names will be consistent across years\n",
    "I guess not that it matters since there is also a region number     "
   ]
  },
  {
   "cell_type": "code",
   "execution_count": 16,
   "metadata": {},
   "outputs": [],
   "source": [
    "isSoutheast = raw_long_df['Region Name'] == 'Southeast'\n",
    "isSouthwest = raw_long_df['Region Name'] == 'Southwest'"
   ]
  },
  {
   "cell_type": "code",
   "execution_count": 17,
   "metadata": {},
   "outputs": [],
   "source": [
    "raw_long_df.loc[isSoutheast,'Region Name'] = 'South'\n",
    "raw_long_df.loc[isSouthwest,'Region Name'] = 'Midwest'"
   ]
  },
  {
   "cell_type": "code",
   "execution_count": 18,
   "metadata": {},
   "outputs": [
    {
     "data": {
      "text/html": [
       "<div>\n",
       "<style scoped>\n",
       "    .dataframe tbody tr th:only-of-type {\n",
       "        vertical-align: middle;\n",
       "    }\n",
       "\n",
       "    .dataframe tbody tr th {\n",
       "        vertical-align: top;\n",
       "    }\n",
       "\n",
       "    .dataframe thead th {\n",
       "        text-align: right;\n",
       "    }\n",
       "</style>\n",
       "<table border=\"1\" class=\"dataframe\">\n",
       "  <thead>\n",
       "    <tr style=\"text-align: right;\">\n",
       "      <th></th>\n",
       "      <th>Year</th>\n",
       "      <th>Round</th>\n",
       "      <th>Region Number</th>\n",
       "      <th>Team</th>\n",
       "      <th>Seed</th>\n",
       "      <th>Score</th>\n",
       "      <th>Team_Position</th>\n",
       "    </tr>\n",
       "    <tr>\n",
       "      <th>Region Name</th>\n",
       "      <th></th>\n",
       "      <th></th>\n",
       "      <th></th>\n",
       "      <th></th>\n",
       "      <th></th>\n",
       "      <th></th>\n",
       "      <th></th>\n",
       "    </tr>\n",
       "  </thead>\n",
       "  <tbody>\n",
       "    <tr>\n",
       "      <th>Championship</th>\n",
       "      <td>70</td>\n",
       "      <td>70</td>\n",
       "      <td>70</td>\n",
       "      <td>70</td>\n",
       "      <td>70</td>\n",
       "      <td>70</td>\n",
       "      <td>70</td>\n",
       "    </tr>\n",
       "    <tr>\n",
       "      <th>East</th>\n",
       "      <td>1050</td>\n",
       "      <td>1050</td>\n",
       "      <td>1050</td>\n",
       "      <td>1050</td>\n",
       "      <td>1050</td>\n",
       "      <td>1050</td>\n",
       "      <td>1050</td>\n",
       "    </tr>\n",
       "    <tr>\n",
       "      <th>Final Four</th>\n",
       "      <td>140</td>\n",
       "      <td>140</td>\n",
       "      <td>140</td>\n",
       "      <td>140</td>\n",
       "      <td>140</td>\n",
       "      <td>140</td>\n",
       "      <td>140</td>\n",
       "    </tr>\n",
       "    <tr>\n",
       "      <th>Midwest</th>\n",
       "      <td>1050</td>\n",
       "      <td>1050</td>\n",
       "      <td>1050</td>\n",
       "      <td>1050</td>\n",
       "      <td>1050</td>\n",
       "      <td>1050</td>\n",
       "      <td>1050</td>\n",
       "    </tr>\n",
       "    <tr>\n",
       "      <th>South</th>\n",
       "      <td>1050</td>\n",
       "      <td>1050</td>\n",
       "      <td>1050</td>\n",
       "      <td>1050</td>\n",
       "      <td>1050</td>\n",
       "      <td>1050</td>\n",
       "      <td>1050</td>\n",
       "    </tr>\n",
       "    <tr>\n",
       "      <th>West</th>\n",
       "      <td>1050</td>\n",
       "      <td>1050</td>\n",
       "      <td>1050</td>\n",
       "      <td>1050</td>\n",
       "      <td>1050</td>\n",
       "      <td>1050</td>\n",
       "      <td>1050</td>\n",
       "    </tr>\n",
       "  </tbody>\n",
       "</table>\n",
       "</div>"
      ],
      "text/plain": [
       "              Year  Round  Region Number  Team  Seed  Score  Team_Position\n",
       "Region Name                                                               \n",
       "Championship    70     70             70    70    70     70             70\n",
       "East          1050   1050           1050  1050  1050   1050           1050\n",
       "Final Four     140    140            140   140   140    140            140\n",
       "Midwest       1050   1050           1050  1050  1050   1050           1050\n",
       "South         1050   1050           1050  1050  1050   1050           1050\n",
       "West          1050   1050           1050  1050  1050   1050           1050"
      ]
     },
     "execution_count": 18,
     "metadata": {},
     "output_type": "execute_result"
    }
   ],
   "source": [
    "raw_long_df.groupby('Region Name').count()"
   ]
  },
  {
   "cell_type": "code",
   "execution_count": 19,
   "metadata": {},
   "outputs": [],
   "source": [
    "tournament_df = raw_long_df.reset_index().copy()"
   ]
  },
  {
   "cell_type": "markdown",
   "metadata": {},
   "source": [
    "#### Figure out which regions play each other in the final four because it changes from year to year"
   ]
  },
  {
   "cell_type": "code",
   "execution_count": 20,
   "metadata": {},
   "outputs": [],
   "source": [
    "final_four_games = \\\n",
    "tournament_df[tournament_df['Round'] == 4] \\\n",
    "    .assign(game_num = lambda x: (x['Region Number'] <= 2)+1) \\\n",
    "    .groupby(['Year','game_num']) \\\n",
    "    .agg({'Region Name' : lambda x: dict(zip(['team1','team2'],x))}) \\\n",
    "    .groupby('Year') \\\n",
    "    .agg({'Region Name' : lambda x: dict(zip(['game1','game2'],x))}) \\\n",
    "    .to_dict().get('Region Name')\n",
    "#{1985: {'game1': {'team1': 'Midwest', 'team2': 'South'}, 'game2': {'team1': 'West', 'team2': 'East'}},\n",
    "# 1986: {'game1': {'team1': 'East', 'team2': 'Midwest'}, 'game2': {'team1': 'South', 'team2': 'West'}},\n",
    "# 1987: {'game1': {'team1': 'South', 'team2': 'East'}, 'game2': {'team1': 'West', 'team2': 'Midwest'}},\n",
    "#        ..."
   ]
  },
  {
   "cell_type": "markdown",
   "metadata": {},
   "source": [
    "#### Create dictionary file with all data in easy format for Bracket object"
   ]
  },
  {
   "cell_type": "code",
   "execution_count": 53,
   "metadata": {},
   "outputs": [],
   "source": [
    "years = tournament_df.Year.unique().tolist()\n",
    "\n",
    "brackets_dict = {}\n",
    "for year in years:\n",
    "    that_year_df = tournament_df[tournament_df['Year'] == year].copy()\n",
    "    round1 = that_year_df[that_year_df['Round'] == 1].sort_values('Seed')\n",
    "    round2 = that_year_df[that_year_df['Round'] == 2]\n",
    "    round3 = that_year_df[that_year_df['Round'] == 3]\n",
    "    round4 = that_year_df[that_year_df['Round'] == 4]\n",
    "    round5 = that_year_df[that_year_df['Round'] == 5]\n",
    "    round6 = that_year_df[that_year_df['Round'] == 6]\n",
    "    winner = round6.sort_values('Score', ascending=False).reset_index().loc[0,].to_dict()\n",
    "    \n",
    "    east1 = round1[round1['Region Name'] == 'East']\n",
    "    west1 = round1[round1['Region Name'] == 'West']\n",
    "    midwest1 = round1[round1['Region Name'] == 'Midwest']\n",
    "    south1 = round1[round1['Region Name'] == 'South']\n",
    "\n",
    "    results = {\n",
    "        'first' : round1[['Team','Seed']].to_dict('recods'),\n",
    "        'second' : round2[['Team','Seed']].to_dict('recods'),\n",
    "        'sweet16' : round3[['Team','Seed']].to_dict('recods'),\n",
    "        'elite8' : round4[['Team','Seed']].to_dict('recods'),\n",
    "        'final4' : round5[['Team','Seed']].to_dict('recods'),\n",
    "        'championship' : round6[['Team','Seed']].to_dict('recods'),\n",
    "        'winner' : {'Team' : winner['Team'], 'Seed' : int(winner['Seed'])}\n",
    "    }\n",
    "    regions = {\n",
    "        'East' : east1[['Team','Seed']].to_dict('recods'),\n",
    "        'West' : west1[['Team','Seed']].to_dict('recods'),\n",
    "        'Midwest' : midwest1[['Team','Seed']].to_dict('recods'),\n",
    "        'South' : south1[['Team','Seed']].to_dict('recods')\n",
    "    }\n",
    "    brackets_dict[year] = {'Region' : regions, 'Results': results, 'Finals': final_four_games[year]}\n"
   ]
  },
  {
   "cell_type": "code",
   "execution_count": 54,
   "metadata": {},
   "outputs": [],
   "source": [
    "import json\n",
    "with open('brackets.json' , 'w') as f:\n",
    "    json.dump(brackets_dict, f)"
   ]
  },
  {
   "cell_type": "code",
   "execution_count": 55,
   "metadata": {},
   "outputs": [],
   "source": [
    "import json\n",
    "with open('brackets.json', 'r') as f:\n",
    "    brackets_dict = json.load(f)\n"
   ]
  },
  {
   "cell_type": "code",
   "execution_count": 57,
   "metadata": {},
   "outputs": [
    {
     "data": {
      "text/plain": [
       "{'Team': 'Virginia', 'Seed': 1}"
      ]
     },
     "execution_count": 57,
     "metadata": {},
     "output_type": "execute_result"
    }
   ],
   "source": [
    "brackets_dict['2019']['Results']['winner']"
   ]
  },
  {
   "cell_type": "code",
   "execution_count": null,
   "metadata": {},
   "outputs": [],
   "source": []
  },
  {
   "cell_type": "code",
   "execution_count": null,
   "metadata": {},
   "outputs": [],
   "source": []
  },
  {
   "cell_type": "code",
   "execution_count": null,
   "metadata": {},
   "outputs": [],
   "source": []
  },
  {
   "cell_type": "code",
   "execution_count": null,
   "metadata": {},
   "outputs": [],
   "source": []
  },
  {
   "cell_type": "code",
   "execution_count": null,
   "metadata": {},
   "outputs": [],
   "source": [
    "# Write the cleaned data to S3\n",
    "import boto3\n",
    "from io import StringIO\n",
    "bucket_name = 'ncaabb-data'\n",
    "file_name = 'tournament.csv'\n",
    "\n",
    "boto3.resource('s3').Bucket(bucket_name).Object(file_name).put(Body=tournament_df.to_csv(index=False))"
   ]
  },
  {
   "cell_type": "code",
   "execution_count": null,
   "metadata": {},
   "outputs": [],
   "source": [
    "# Check to make sure that the data is there\n",
    "\n",
    "byte_str = boto3.resource('s3').Bucket(bucket_name).Object(file_name).get()['Body'].read().decode('utf-8')\n",
    "clean_df = pd.read_csv(StringIO(str(byte_str)))\n",
    "(tournament_df==clean_df).mean().mean()"
   ]
  },
  {
   "cell_type": "code",
   "execution_count": null,
   "metadata": {},
   "outputs": [],
   "source": []
  },
  {
   "cell_type": "code",
   "execution_count": null,
   "metadata": {},
   "outputs": [],
   "source": [
    "bucket_name = 'ncaabb-data'\n",
    "tournament_filename = 'big_dance.csv'\n",
    "season19_filename = 'team19.csv'"
   ]
  },
  {
   "cell_type": "code",
   "execution_count": null,
   "metadata": {},
   "outputs": [],
   "source": [
    "s3 = boto3.resource('s3')\n",
    "s3_bucket = s3.Bucket(bucket_name)"
   ]
  },
  {
   "cell_type": "code",
   "execution_count": null,
   "metadata": {},
   "outputs": [],
   "source": [
    "byte_str = s3_bucket.Object(tournament_filename).get()['Body'].read().decode('utf-8')\n",
    "tournament_raw_df = pd.read_csv(StringIO(str(byte_str)))"
   ]
  },
  {
   "cell_type": "code",
   "execution_count": null,
   "metadata": {},
   "outputs": [],
   "source": [
    "byte_str = s3_bucket.Object(season19_filename).get()['Body'].read().decode('utf-8')\n",
    "season19_df = pd.read_csv(StringIO(str(byte_str)))"
   ]
  },
  {
   "cell_type": "code",
   "execution_count": null,
   "metadata": {},
   "outputs": [],
   "source": [
    "base_columns = ['Year','Round','Region Number','Region Name']\n",
    "team0_columns = ['Team','Seed','Score']\n",
    "team1_columns = ['Team.1','Seed.1','Score.1']"
   ]
  },
  {
   "cell_type": "code",
   "execution_count": null,
   "metadata": {},
   "outputs": [],
   "source": [
    "high_seed_df = tournament_raw_df[base_columns + team0_columns].copy()\n",
    "low_seed_df  = tournament_raw_df[base_columns + team1_columns].rename(columns=dict(zip(team1_columns,team0_columns))).copy()\n",
    "\n",
    "high_seed_df['Team_Position'] = 'high'\n",
    "low_seed_df['Team_Position'] = 'low'\n",
    "tournament_df = pd.concat([high_seed_df, low_seed_df])"
   ]
  },
  {
   "cell_type": "code",
   "execution_count": null,
   "metadata": {},
   "outputs": [],
   "source": []
  },
  {
   "cell_type": "code",
   "execution_count": null,
   "metadata": {},
   "outputs": [],
   "source": [
    "final_four_games"
   ]
  },
  {
   "cell_type": "code",
   "execution_count": null,
   "metadata": {},
   "outputs": [],
   "source": []
  },
  {
   "cell_type": "code",
   "execution_count": null,
   "metadata": {},
   "outputs": [],
   "source": []
  },
  {
   "cell_type": "code",
   "execution_count": null,
   "metadata": {},
   "outputs": [],
   "source": []
  },
  {
   "cell_type": "code",
   "execution_count": null,
   "metadata": {},
   "outputs": [],
   "source": []
  },
  {
   "cell_type": "code",
   "execution_count": null,
   "metadata": {},
   "outputs": [],
   "source": []
  },
  {
   "cell_type": "code",
   "execution_count": null,
   "metadata": {},
   "outputs": [],
   "source": []
  },
  {
   "cell_type": "code",
   "execution_count": null,
   "metadata": {},
   "outputs": [],
   "source": []
  },
  {
   "cell_type": "code",
   "execution_count": null,
   "metadata": {},
   "outputs": [],
   "source": []
  },
  {
   "cell_type": "code",
   "execution_count": null,
   "metadata": {},
   "outputs": [],
   "source": []
  },
  {
   "cell_type": "code",
   "execution_count": null,
   "metadata": {},
   "outputs": [],
   "source": [
    "teams = pd.concat([tourney19['Team'], tourney19['Team.1']]).sort_values().unique().tolist()"
   ]
  },
  {
   "cell_type": "code",
   "execution_count": null,
   "metadata": {},
   "outputs": [],
   "source": [
    "# Filter on schools that made it to the tourney\n",
    "season19_df = season19_df[season19_df.School.str.contains('NCAA')].copy()\n",
    "\n",
    "# Take out the NCAA tag on the team name\n",
    "season19_df['School'] = season19_df.School.str.replace(' NCAA', '')\n",
    "\n",
    "# Manually rename teams with more colloquial acronyms\n",
    "season19_df.loc[season19_df['School'] == 'Virginia Commonwealth', 'School'] = 'VCU'\n",
    "season19_df.loc[season19_df['School'] == 'Louisiana State', 'School'] = 'LSU'\n",
    "season19_df.loc[season19_df['School'] == 'Mississippi', 'School'] = 'Ole Miss'\n",
    "\n",
    "# Take out play in game losers\n",
    "play_in_losers = ['Temple','North Carolina Central',\"St. John's (NY)\",'Prairie View']\n",
    "lost_before_64 = season19_df.School.isin(play_in_losers)\n",
    "season19_df = season19_df[~lost_before_64].copy()"
   ]
  },
  {
   "cell_type": "code",
   "execution_count": null,
   "metadata": {},
   "outputs": [],
   "source": [
    "#! conda install -c conda-forge fuzzywuzzy -y"
   ]
  },
  {
   "cell_type": "code",
   "execution_count": null,
   "metadata": {},
   "outputs": [],
   "source": [
    "season19_df.head(64)"
   ]
  },
  {
   "cell_type": "code",
   "execution_count": null,
   "metadata": {},
   "outputs": [],
   "source": [
    "teams_from_season_data = season19_df.School.values.tolist()"
   ]
  },
  {
   "cell_type": "code",
   "execution_count": null,
   "metadata": {},
   "outputs": [],
   "source": [
    "len(teams_from_season_data)"
   ]
  },
  {
   "cell_type": "code",
   "execution_count": null,
   "metadata": {},
   "outputs": [],
   "source": [
    "def get_match(string, potential_matches):\n",
    "    best_match, score = process.extractOne(string, potential_matches, scorer=fuzz.token_sort_ratio)\n",
    "    if score < 80: print(string, best_match, score)#raise Exception(\"No good match with score above 80\")\n",
    "    return best_match"
   ]
  },
  {
   "cell_type": "code",
   "execution_count": null,
   "metadata": {},
   "outputs": [],
   "source": [
    "team_name_map = {school:get_match(school, teams) for school in teams_from_season_data}\n",
    "season19_df['School'] = season19_df['School'].map(team_name_map)"
   ]
  },
  {
   "cell_type": "code",
   "execution_count": null,
   "metadata": {},
   "outputs": [],
   "source": [
    "expected_wins_for_seed = {\n",
    "#  seed : expected wins    \n",
    "    16 : 0,\n",
    "    15 : 0,\n",
    "    14 : 0,\n",
    "    13 : 0,\n",
    "    12 : 0,\n",
    "    11 : 0,\n",
    "    10 : 0,\n",
    "    9  : 0,\n",
    "    8  : 1,\n",
    "    7  : 1,\n",
    "    6  : 1,\n",
    "    5  : 1,\n",
    "    4  : 2,\n",
    "    3  : 2,\n",
    "    2  : 3,\n",
    "    1  : 4\n",
    "}"
   ]
  },
  {
   "cell_type": "code",
   "execution_count": null,
   "metadata": {},
   "outputs": [],
   "source": [
    "# how to structure what happened in tournament\n",
    "# how did each seed in each region (or each team) perform ?\n",
    "the_team = 'Duke'\n",
    "tourney19[(tourney19['Team'] == the_team) | (tourney19['Team.1'] == the_team)]"
   ]
  },
  {
   "cell_type": "code",
   "execution_count": null,
   "metadata": {},
   "outputs": [],
   "source": [
    "tourney19[tourney19['Region Name'] == 'East']"
   ]
  },
  {
   "cell_type": "code",
   "execution_count": null,
   "metadata": {},
   "outputs": [],
   "source": [
    "tournament_df.groupby('Region Name').count()"
   ]
  },
  {
   "cell_type": "code",
   "execution_count": null,
   "metadata": {},
   "outputs": [],
   "source": []
  },
  {
   "cell_type": "code",
   "execution_count": null,
   "metadata": {},
   "outputs": [],
   "source": []
  },
  {
   "cell_type": "code",
   "execution_count": null,
   "metadata": {},
   "outputs": [],
   "source": []
  },
  {
   "cell_type": "code",
   "execution_count": null,
   "metadata": {},
   "outputs": [],
   "source": []
  },
  {
   "cell_type": "code",
   "execution_count": null,
   "metadata": {},
   "outputs": [],
   "source": []
  },
  {
   "cell_type": "code",
   "execution_count": null,
   "metadata": {},
   "outputs": [],
   "source": []
  },
  {
   "cell_type": "code",
   "execution_count": null,
   "metadata": {},
   "outputs": [],
   "source": []
  }
 ],
 "metadata": {
  "kernelspec": {
   "display_name": "conda_python3",
   "language": "python",
   "name": "conda_python3"
  },
  "language_info": {
   "codemirror_mode": {
    "name": "ipython",
    "version": 3
   },
   "file_extension": ".py",
   "mimetype": "text/x-python",
   "name": "python",
   "nbconvert_exporter": "python",
   "pygments_lexer": "ipython3",
   "version": "3.6.5"
  }
 },
 "nbformat": 4,
 "nbformat_minor": 4
}
